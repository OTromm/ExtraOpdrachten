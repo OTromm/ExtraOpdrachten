{
 "cells": [
  {
   "cell_type": "markdown",
   "metadata": {},
   "source": [
    "# FizzBuzz\n",
    "Schrijf een programma die het volgende doet:\n",
    "* Hij loopt door alle getallen heen tussen 1 en 100\n",
    "* Wanneer een getal deelbaar is door 3 moet er `Fizz` komen te staan.\n",
    "* Wanneer een getal deelbaar is door 5 moet er `Buzz` komen te staan.\n",
    "* Wanneer een getal deelbaar is door 3 en 5 moet er `FizzBuzz` komen te staan.\n",
    "* Is een getal niet deelbaar oor 3 of 5? Dan moet het getal er komen te staan.\n",
    "\n",
    "### Voorbeeld output:\n",
    "`1 2 Fizz 4 Buzz Fizz 7 8 Fizz Buzz 11 Fizz 13 14 FizzBuzz ...`"
   ]
  },
  {
   "cell_type": "code",
   "execution_count": null,
   "metadata": {},
   "outputs": [],
   "source": []
  },
  {
   "cell_type": "markdown",
   "metadata": {},
   "source": [
    "# De reeks van Fibonachi\n",
    "De reeks van Fibonachi werkt als volgt: De reeks begint met de getallen 0 en 1, het volgende getal is de som van de vorige 2 getallen. Print de reeks van de eerste `10` Fibonachi getallen uit.\n",
    "\n",
    "### Voorbeeld output\n",
    "`1 2 3 5 8 13 21 34 55`"
   ]
  },
  {
   "cell_type": "code",
   "execution_count": null,
   "metadata": {},
   "outputs": [],
   "source": []
  },
  {
   "cell_type": "markdown",
   "metadata": {},
   "source": [
    "# Anagram test\n",
    "\n",
    "Een anagram zijn twee worden die precies dezelfde letters gebruiken, schrijf dus een programma die twee woorden als variabelen heeft en kijkt of ze samen een anagram zijn.\n",
    "\n",
    "*hint: maak gebruik van de sorted() methode. Die werkt als volgt:*\n",
    "*`sorted(\"cba\")` wordt dan `\"abc\"`*\n",
    "\n",
    "### Voorbeeld output\n",
    "De twee woorden die gecheckt worden zijn `appel` en `apepl`, output moet dan zijn: `Het is een Anagram!`"
   ]
  },
  {
   "cell_type": "code",
   "execution_count": null,
   "metadata": {},
   "outputs": [],
   "source": []
  },
  {
   "cell_type": "markdown",
   "metadata": {},
   "source": [
    "# Grootste priemfactor berekenen\n",
    "\n",
    "Schrijf een programma die het grootste priemfactor berekent van een bepaald getal. Bereken dus eerst alle priemfactoren van 0 tot dat getal en geef dan de grootste terug.\n",
    "\n",
    "*hint: een priemgetal is een getal die alleen door 1 en zichzelf gedeeld kan worden, een **priemfactor** is een getal waardoor het gegeven getal gedeeld kan worden.*\n",
    "\n",
    "### Voorbeeld output\n",
    "Het gegeven getal is `13195`, de priemfactoren van dit nummer zijn `5, 7, 13, 29`, de grootste priemfactor hiervan is dus `29`."
   ]
  },
  {
   "cell_type": "code",
   "execution_count": null,
   "metadata": {},
   "outputs": [],
   "source": []
  },
  {
   "cell_type": "markdown",
   "metadata": {},
   "source": [
    "# Som, Kwadraat verschil berekenen\n",
    "De som van de kwadraten van de eerste 10 nummers is,\n",
    "$1^{2} + 2^{2} + ... + 10^{2} = 385$\n",
    "\n",
    "Het kwadraat van de som van de eerste 10 nummers is,\n",
    "$(1 + 2 + ... + 10)^{2} = 3025$\n",
    "\n",
    "Het verschil is dus $3025 - 385 = 2640$.\n",
    "\n",
    "Schrijf een programma die dit dus uitrekend voor een bepaald aantal nummers."
   ]
  },
  {
   "cell_type": "code",
   "execution_count": null,
   "metadata": {},
   "outputs": [],
   "source": []
  }
 ],
 "metadata": {
  "interpreter": {
   "hash": "89aee6942dff7a18974bb50e1d06d5f53d62a755afa5f3e07738ada7c8d88558"
  },
  "kernelspec": {
   "display_name": "Python 3.9.1 64-bit",
   "language": "python",
   "name": "python3"
  },
  "language_info": {
   "codemirror_mode": {
    "name": "ipython",
    "version": 3
   },
   "file_extension": ".py",
   "mimetype": "text/x-python",
   "name": "python",
   "nbconvert_exporter": "python",
   "pygments_lexer": "ipython3",
   "version": "3.9.1"
  },
  "orig_nbformat": 4
 },
 "nbformat": 4,
 "nbformat_minor": 2
}
